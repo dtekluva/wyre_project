{
 "cells": [
  {
   "cell_type": "code",
   "execution_count": 4,
   "metadata": {},
   "outputs": [],
   "source": [
    "# import sys\n",
    "# !{sys.executable} -m pip install robobrowser\n",
    "import requests\n",
    "from requests.auth import HTTPBasicAuth\n",
    "import json"
   ]
  },
  {
   "cell_type": "code",
   "execution_count": 3,
   "metadata": {},
   "outputs": [
    {
     "ename": "NameError",
     "evalue": "name 'requests' is not defined",
     "output_type": "error",
     "traceback": [
      "\u001b[1;31m---------------------------------------------------------------------------\u001b[0m",
      "\u001b[1;31mNameError\u001b[0m                                 Traceback (most recent call last)",
      "\u001b[1;32m<ipython-input-3-e1c792538dd5>\u001b[0m in \u001b[0;36m<module>\u001b[1;34m()\u001b[0m\n\u001b[1;32m----> 1\u001b[1;33m \u001b[0mreq\u001b[0m \u001b[1;33m=\u001b[0m \u001b[0mrequests\u001b[0m\u001b[1;33m.\u001b[0m\u001b[0mget\u001b[0m\u001b[1;33m(\u001b[0m\u001b[1;34m'http://expertpowerplus.com:8080/api/Login?userName=ppl&pass=Wyre1234'\u001b[0m\u001b[1;33m)\u001b[0m\u001b[1;33m\u001b[0m\u001b[0m\n\u001b[0m",
      "\u001b[1;31mNameError\u001b[0m: name 'requests' is not defined"
     ]
    }
   ],
   "source": [
    "req = requests.get('http://expertpowerplus.com:8080/api/Login?userName=ppl&pass=Wyre1234')"
   ]
  },
  {
   "cell_type": "code",
   "execution_count": 2,
   "metadata": {},
   "outputs": [
    {
     "ename": "NameError",
     "evalue": "name 'req' is not defined",
     "output_type": "error",
     "traceback": [
      "\u001b[1;31m---------------------------------------------------------------------------\u001b[0m",
      "\u001b[1;31mNameError\u001b[0m                                 Traceback (most recent call last)",
      "\u001b[1;32m<ipython-input-2-1b52e308f590>\u001b[0m in \u001b[0;36m<module>\u001b[1;34m()\u001b[0m\n\u001b[1;32m----> 1\u001b[1;33m \u001b[0mauth_key_name\u001b[0m \u001b[1;33m=\u001b[0m \u001b[1;33m(\u001b[0m\u001b[0mlist\u001b[0m\u001b[1;33m(\u001b[0m\u001b[0mreq\u001b[0m\u001b[1;33m.\u001b[0m\u001b[0mcookies\u001b[0m\u001b[1;33m)\u001b[0m\u001b[1;33m[\u001b[0m\u001b[1;36m0\u001b[0m\u001b[1;33m]\u001b[0m\u001b[1;33m)\u001b[0m\u001b[1;33m.\u001b[0m\u001b[0mname\u001b[0m \u001b[1;31m#get name of cookie unit used to be (.ASPXAUTH) chnaged to (form_p)\u001b[0m\u001b[1;33m\u001b[0m\u001b[0m\n\u001b[0m\u001b[0;32m      2\u001b[0m \u001b[0mauth_key_value\u001b[0m \u001b[1;33m=\u001b[0m \u001b[0mdict\u001b[0m\u001b[1;33m(\u001b[0m\u001b[0mreq\u001b[0m\u001b[1;33m.\u001b[0m\u001b[0mcookies\u001b[0m\u001b[1;33m)\u001b[0m\u001b[1;33m.\u001b[0m\u001b[0mget\u001b[0m\u001b[1;33m(\u001b[0m\u001b[0mauth_key_name\u001b[0m\u001b[1;33m)\u001b[0m \u001b[1;31m#get actual cookie unit\u001b[0m\u001b[1;33m\u001b[0m\u001b[0m\n",
      "\u001b[1;31mNameError\u001b[0m: name 'req' is not defined"
     ]
    }
   ],
   "source": [
    "auth_key_name = (list(req.cookies)[0]).name #get name of cookie unit used to be (.ASPXAUTH) chnaged to (form_p)\n",
    "auth_key_value = dict(req.cookies).get(auth_key_name) #get actual cookie unit"
   ]
  },
  {
   "cell_type": "code",
   "execution_count": 1,
   "metadata": {},
   "outputs": [
    {
     "ename": "NameError",
     "evalue": "name 'auth_key_name' is not defined",
     "output_type": "error",
     "traceback": [
      "\u001b[1;31m---------------------------------------------------------------------------\u001b[0m",
      "\u001b[1;31mNameError\u001b[0m                                 Traceback (most recent call last)",
      "\u001b[1;32m<ipython-input-1-808c17b63888>\u001b[0m in \u001b[0;36m<module>\u001b[1;34m()\u001b[0m\n\u001b[1;32m----> 1\u001b[1;33m \u001b[0mcookie\u001b[0m \u001b[1;33m=\u001b[0m \u001b[1;33m{\u001b[0m\u001b[0mauth_key_name\u001b[0m\u001b[1;33m:\u001b[0m \u001b[0mauth_key_value\u001b[0m\u001b[1;33m}\u001b[0m\u001b[1;33m\u001b[0m\u001b[0m\n\u001b[0m\u001b[0;32m      2\u001b[0m \u001b[0murl_lastreading\u001b[0m \u001b[1;33m=\u001b[0m \u001b[1;34m'http://expertpowerplus.com:8080/api/basic/133813/LastReading'\u001b[0m\u001b[1;33m\u001b[0m\u001b[0m\n\u001b[0;32m      3\u001b[0m \u001b[0murl_period_reading\u001b[0m \u001b[1;33m=\u001b[0m \u001b[1;34m'http://expertpowerplus.com:8080/api/Basic?startDate=2019-06-01&endDate=2019-06-30&deviceId=133813'\u001b[0m\u001b[1;33m\u001b[0m\u001b[0m\n\u001b[0;32m      4\u001b[0m \u001b[1;33m\u001b[0m\u001b[0m\n\u001b[0;32m      5\u001b[0m \u001b[0mr\u001b[0m \u001b[1;33m=\u001b[0m \u001b[0mrequests\u001b[0m\u001b[1;33m.\u001b[0m\u001b[0mget\u001b[0m\u001b[1;33m(\u001b[0m\u001b[0murl_lastreading\u001b[0m\u001b[1;33m,\u001b[0m \u001b[0mcookies\u001b[0m\u001b[1;33m=\u001b[0m\u001b[0mcookie\u001b[0m\u001b[1;33m)\u001b[0m\u001b[1;33m\u001b[0m\u001b[0m\n",
      "\u001b[1;31mNameError\u001b[0m: name 'auth_key_name' is not defined"
     ]
    }
   ],
   "source": [
    "cookie = {auth_key_name: auth_key_value}\n",
    "url_lastreading = 'http://expertpowerplus.com:8080/api/basic/133813/LastReading'\n",
    "url_period_reading = 'http://expertpowerplus.com:8080/api/Basic?startDate=2019-06-29&endDate=c&deviceId=133813'\n",
    "\n",
    "r = requests.get(url_lastreading, cookies=cookie)\n",
    "\n",
    "# print(r.content)"
   ]
  },
  {
   "cell_type": "code",
   "execution_count": 13,
   "metadata": {},
   "outputs": [],
   "source": [
    "x = (r.content)"
   ]
  },
  {
   "cell_type": "code",
   "execution_count": 14,
   "metadata": {},
   "outputs": [
    {
     "name": "stdout",
     "output_type": "stream",
     "text": [
      "2019-07-02T23:15:47.48\n",
      "Voltage L1/L12*Voltage L2/L23*Voltage L3/L31*Current L1*Current L2*Current L3*kW L1*kW L2*kW L3*kvar L1*kvar L2*kvar L3*kVA L1*kVA L2*kVA L3*Power factor L1*Power factor L2*Power factor L3*Total kW*Total kvar*Total kVA*Total PF*Avg Frequency*Neutral current*kWh import*kWh export*kVAh total*Max Amp. Demand L1*Max Amp. Demand L2*Max Amp. Demand L3*Max. sliding window kW Demand*Accum. kW Demand*Max. sliding window kVA Demand*Present sliding window kW Demand*Present sliding window kVA Demand*Accum. kVA Demand*"
     ]
    }
   ],
   "source": [
    "data = json.loads(x)\n",
    "readings = (data['data'][0]['data'])\n",
    "# print(data['data'][0][\"recordTime\"])\n",
    "for value in readings:\n",
    "    # print(value[\"description\"], end= '*')"
   ]
  },
  {
   "cell_type": "code",
   "execution_count": 15,
   "metadata": {},
   "outputs": [
    {
     "name": "stdout",
     "output_type": "stream",
     "text": [
      "2019-07-02T23:15:47.48\n",
      "0             Voltage L1/L12              238.0           V      \n",
      "1             Voltage L2/L23              237.8           V      \n",
      "2             Voltage L3/L31              238.6           V      \n",
      "3               Current L1                109.69          A      \n",
      "4               Current L2                103.37          A      \n",
      "5               Current L3                126.57          A      \n",
      "6                 kW L1                   24.29           kW     \n",
      "7                 kW L2                   22.37           kW     \n",
      "8                 kW L3                   28.706          kW     \n",
      "9                kvar L1                   9.12          kvar    \n",
      "10               kvar L2                  9.696          kvar    \n",
      "11               kvar L3                  8.544          kvar    \n",
      "12                kVA L1                  25.826         kVA     \n",
      "13                kVA L2                  24.482         kVA     \n",
      "14                kVA L3                  30.05          kVA     \n",
      "15           Power factor L1              0.936           PF     \n",
      "16           Power factor L2              0.918           PF     \n",
      "17           Power factor L3              0.958           PF     \n",
      "18               Total kW                 75.366          kW     \n",
      "19              Total kvar                27.362         kvar    \n",
      "20              Total kVA                 80.168         kVA     \n",
      "21               Total PF                  0.94           PF     \n",
      "22            Avg Frequency               50.02           Hz     \n",
      "23           Neutral current              39.12           A      \n",
      "24              kWh import                294012         kWh     \n",
      "25              kWh export                  0            kWh     \n",
      "26              kVAh total                331501         kVAh    \n",
      "27          Max Amp. Demand L1            390.68          A      \n",
      "28          Max Amp. Demand L2            442.12          A      \n",
      "29          Max Amp. Demand L3            418.28          A      \n",
      "30    Max. sliding window kW Demand      249.143          kW     \n",
      "31           Accum. kW Demand             3.744           kW     \n",
      "32    Max. sliding window kVA Demand     249.143         kVA     \n",
      "33   Present sliding window kW Demand     69.798          kW     \n",
      "34  Present sliding window kVA Demand     74.022         kVA     \n",
      "35          Accum. kVA Demand             3.936          kVA     \n"
     ]
    }
   ],
   "source": [
    "readings = (data['data'][0]['data'])\n",
    "# print(data['data'][0][\"recordTime\"])\n",
    "i = 0\n",
    "for value in readings:\n",
    "    # print(str(i).center(2), (value[\"description\"]).center(35), str(value[\"value\"]).center(12), str(value[\"units\"]).center(13))\n",
    "    i += 1"
   ]
  },
  {
   "cell_type": "code",
   "execution_count": null,
   "metadata": {},
   "outputs": [],
   "source": [
    "# print(data.get(\"data\"))"
   ]
  },
  {
   "cell_type": "code",
   "execution_count": 33,
   "metadata": {},
   "outputs": [
    {
     "name": "stdout",
     "output_type": "stream",
     "text": [
      "Voltage_L1_L12 = models.FloatField(null=True, blank=True, default=None)\n",
      "Voltage_L2_L23 = models.FloatField(null=True, blank=True, default=None)\n",
      "Voltage_L3_L31 = models.FloatField(null=True, blank=True, default=None)\n",
      "Current_L1 = models.FloatField(null=True, blank=True, default=None)\n",
      "Current_L2 = models.FloatField(null=True, blank=True, default=None)\n",
      "Current_L3 = models.FloatField(null=True, blank=True, default=None)\n",
      "kW_L1 = models.FloatField(null=True, blank=True, default=None)\n",
      "kW_L2 = models.FloatField(null=True, blank=True, default=None)\n",
      "kW_L3 = models.FloatField(null=True, blank=True, default=None)\n",
      "kvar_L1 = models.FloatField(null=True, blank=True, default=None)\n",
      "kvar_L2 = models.FloatField(null=True, blank=True, default=None)\n",
      "kvar_L3 = models.FloatField(null=True, blank=True, default=None)\n",
      "kVA_L1 = models.FloatField(null=True, blank=True, default=None)\n",
      "kVA_L2 = models.FloatField(null=True, blank=True, default=None)\n",
      "kVA_L3 = models.FloatField(null=True, blank=True, default=None)\n",
      "Power_factor_L1 = models.FloatField(null=True, blank=True, default=None)\n",
      "Power_factor_L2 = models.FloatField(null=True, blank=True, default=None)\n",
      "Power_factor_L3 = models.FloatField(null=True, blank=True, default=None)\n",
      "Total_kW = models.FloatField(null=True, blank=True, default=None)\n",
      "Total_kvar = models.FloatField(null=True, blank=True, default=None)\n",
      "Total_kVA = models.FloatField(null=True, blank=True, default=None)\n",
      "Total_PF = models.FloatField(null=True, blank=True, default=None)\n",
      "Avg_Frequency = models.FloatField(null=True, blank=True, default=None)\n",
      "Neutral_current = models.FloatField(null=True, blank=True, default=None)\n",
      "Volt_THD_L1_L12 = models.FloatField(null=True, blank=True, default=None)\n",
      "Volt_THD_L2_L23 = models.FloatField(null=True, blank=True, default=None)\n",
      "Volt_THD_L3_L31 = models.FloatField(null=True, blank=True, default=None)\n",
      "Current_THD_L1 = models.FloatField(null=True, blank=True, default=None)\n",
      "Current_THD_L2 = models.FloatField(null=True, blank=True, default=None)\n",
      "Current_THD_L3 = models.FloatField(null=True, blank=True, default=None)\n",
      "Current_TDD_L1 = models.FloatField(null=True, blank=True, default=None)\n",
      "Current_TDD_L2 = models.FloatField(null=True, blank=True, default=None)\n",
      "Current_TDD_L3 = models.FloatField(null=True, blank=True, default=None)\n",
      "kWh_import = models.FloatField(null=True, blank=True, default=None)\n",
      "kWh_export = models.FloatField(null=True, blank=True, default=None)\n",
      "kvarh_import = models.FloatField(null=True, blank=True, default=None)\n",
      "kVAh_total = models.FloatField(null=True, blank=True, default=None)\n",
      "Max_Amp._Demand_L1 = models.FloatField(null=True, blank=True, default=None)\n",
      "Max_Amp._Demand_L2 = models.FloatField(null=True, blank=True, default=None)\n",
      "Max_Amp._Demand_L3 = models.FloatField(null=True, blank=True, default=None)\n",
      "Max._sliding_window_kW_Demand = models.FloatField(null=True, blank=True, default=None)\n",
      "Accum._kW_Demand = models.FloatField(null=True, blank=True, default=None)\n",
      "Max._sliding_window_kVA_Demand = models.FloatField(null=True, blank=True, default=None)\n",
      "Present_sliding_window_kW_Demand = models.FloatField(null=True, blank=True, default=None)\n",
      "Present_sliding_window_kVA_Demand = models.FloatField(null=True, blank=True, default=None)\n",
      "Accum._kVA_Demand = models.FloatField(null=True, blank=True, default=None)\n",
      "PF_(import)_at_maximum_kVA_sliding_window_Demand = models.FloatField(null=True, blank=True, default=None)\n"
     ]
    }
   ],
   "source": [
    "text = 'Voltage L1/L12*Voltage L2/L23*Voltage L3/L31*Current L1*Current L2*Current L3*kW L1*kW L2*kW L3*kvar L1*kvar L2*kvar L3*kVA L1*kVA L2*kVA L3*Power factor L1*Power factor L2*Power factor L3*Total kW*Total kvar*Total kVA*Total PF*Avg Frequency*Neutral current*Volt THD L1/L12*Volt THD L2/L23*Volt THD L3/L31*Current THD L1*Current THD L2*Current THD L3*Current TDD L1*Current TDD L2*Current TDD L3*kWh import*kWh export*kvarh import*kVAh total*Max Amp. Demand L1*Max Amp. Demand L2*Max Amp. Demand L3*Max. sliding window kW Demand*Accum. kW Demand*Max. sliding window kVA Demand*Present sliding window kW Demand*Present sliding window kVA Demand*Accum. kVA Demand*PF (import) at maximum kVA sliding window Demand'.replace(' ','_').replace('/','_')\n",
    "parameters = text.split('*')\n",
    "model = ' = models.FloatField(null=True, blank=True, default=None)'\n",
    "\n",
    "for value in parameters:\n",
    "    # print(value + model)"
   ]
  },
  {
   "cell_type": "code",
   "execution_count": 34,
   "metadata": {},
   "outputs": [],
   "source": [
    "well_formatted_models = \"\"\"    Voltage_L1_L12  = models.FloatField(null=True, blank=True, default=None)\n",
    "    Voltage_L2_L23  = models.FloatField(null=True, blank=True, default=None)\n",
    "    Voltage_L3_L31  = models.FloatField(null=True, blank=True, default=None)\n",
    "    Current_L1      = models.FloatField(null=True, blank=True, default=None)\n",
    "    Current_L2      = models.FloatField(null=True, blank=True, default=None)\n",
    "    Current_L3      = models.FloatField(null=True, blank=True, default=None)\n",
    "    kW_L1   = models.FloatField(null=True, blank=True, default=None)\n",
    "    kW_L2   = models.FloatField(null=True, blank=True, default=None)\n",
    "    kW_L3   = models.FloatField(null=True, blank=True, default=None)\n",
    "    kvar_L1 = models.FloatField(null=True, blank=True, default=None)\n",
    "    kvar_L2 = models.FloatField(null=True, blank=True, default=None)\n",
    "    kvar_L3 = models.FloatField(null=True, blank=True, default=None)\n",
    "    kVA_L1  = models.FloatField(null=True, blank=True, default=None)\n",
    "    kVA_L2  = models.FloatField(null=True, blank=True, default=None)\n",
    "    kVA_L3  = models.FloatField(null=True, blank=True, default=None)\n",
    "    Power_factor_L1  = models.FloatField(null=True, blank=True, default=None)\n",
    "    Power_factor_L2  = models.FloatField(null=True, blank=True, default=None)\n",
    "    Power_factor_L3  = models.FloatField(null=True, blank=True, default=None)\n",
    "    Total_kW    = models.FloatField(null=True, blank=True, default=None)\n",
    "    Total_kvar  = models.FloatField(null=True, blank=True, default=None)\n",
    "    Total_kVA   = models.FloatField(null=True, blank=True, default=None)\n",
    "    Total_PF    = models.FloatField(null=True, blank=True, default=None)\n",
    "    Avg_Frequency   = models.FloatField(null=True, blank=True, default=None)\n",
    "    Neutral_current = models.FloatField(null=True, blank=True, default=None)\n",
    "    Volt_THD_L1_L12 = models.FloatField(null=True, blank=True, default=None)\n",
    "    Volt_THD_L2_L23 = models.FloatField(null=True, blank=True, default=None)\n",
    "    Volt_THD_L3_L31 = models.FloatField(null=True, blank=True, default=None)\n",
    "    Current_THD_L1  = models.FloatField(null=True, blank=True, default=None)\n",
    "    Current_THD_L2  = models.FloatField(null=True, blank=True, default=None)\n",
    "    Current_THD_L3  = models.FloatField(null=True, blank=True, default=None)\n",
    "    Current_TDD_L1  = models.FloatField(null=True, blank=True, default=None)\n",
    "    Current_TDD_L2  = models.FloatField(null=True, blank=True, default=None)\n",
    "    Current_TDD_L3  = models.FloatField(null=True, blank=True, default=None)\n",
    "    kWh_import      = models.FloatField(null=True, blank=True, default=None)\n",
    "    kWh_export      = models.FloatField(null=True, blank=True, default=None)\n",
    "    kvarh_import    = models.FloatField(null=True, blank=True, default=None)\n",
    "    kVAh_total      = models.FloatField(null=True, blank=True, default=None)\n",
    "    Max_Amp._Demand_L1 = models.FloatField(null=True, blank=True, default=None)\n",
    "    Max_Amp._Demand_L2 = models.FloatField(null=True, blank=True, default=None)\n",
    "    Max_Amp._Demand_L3 = models.FloatField(null=True, blank=True, default=None)\n",
    "    Max._sliding_window_kW_Demand   = models.FloatField(null=True, blank=True, default=None)\n",
    "    Accum._kW_Demand    = models.FloatField(null=True, blank=True, default=None)\n",
    "    Max._sliding_window_kVA_Demand      = models.FloatField(null=True, blank=True, default=None)\n",
    "    Present_sliding_window_kW_Demand    = models.FloatField(null=True, blank=True, default=None)\n",
    "    Present_sliding_window_kVA_Demand   = models.FloatField(null=True, blank=True, default=None)\n",
    "    Accum_kVA_Demand   = models.FloatField(null=True, blank=True, default=None)\n",
    "    PF_import_at_maximum_kVA_sliding_window_Demand = models.FloatField(null=True, blank=True, default=None)\"\"\"    "
   ]
  },
  {
   "cell_type": "code",
   "execution_count": 35,
   "metadata": {},
   "outputs": [
    {
     "name": "stdout",
     "output_type": "stream",
     "text": [
      "    voltage_l1_l12  = models.FloatField(null=True, blank=True, default=None) /n\n",
      "    voltage_l2_l23  = models.FloatField(null=True, blank=True, default=None) /n\n",
      "    voltage_l3_l31  = models.FloatField(null=True, blank=True, default=None) /n\n",
      "    current_l1      = models.FloatField(null=True, blank=True, default=None) /n\n",
      "    current_l2      = models.FloatField(null=True, blank=True, default=None) /n\n",
      "    current_l3      = models.FloatField(null=True, blank=True, default=None) /n\n",
      "    kw_l1   = models.FloatField(null=True, blank=True, default=None) /n\n",
      "    kw_l2   = models.FloatField(null=True, blank=True, default=None) /n\n",
      "    kw_l3   = models.FloatField(null=True, blank=True, default=None) /n\n",
      "    kvar_l1 = models.FloatField(null=True, blank=True, default=None) /n\n",
      "    kvar_l2 = models.FloatField(null=True, blank=True, default=None) /n\n",
      "    kvar_l3 = models.FloatField(null=True, blank=True, default=None) /n\n",
      "    kva_l1  = models.FloatField(null=True, blank=True, default=None) /n\n",
      "    kva_l2  = models.FloatField(null=True, blank=True, default=None) /n\n",
      "    kva_l3  = models.FloatField(null=True, blank=True, default=None) /n\n",
      "    power_factor_l1  = models.FloatField(null=True, blank=True, default=None) /n\n",
      "    power_factor_l2  = models.FloatField(null=True, blank=True, default=None) /n\n",
      "    power_factor_l3  = models.FloatField(null=True, blank=True, default=None) /n\n",
      "    total_kw    = models.FloatField(null=True, blank=True, default=None) /n\n",
      "    total_kvar  = models.FloatField(null=True, blank=True, default=None) /n\n",
      "    total_kva   = models.FloatField(null=True, blank=True, default=None) /n\n",
      "    total_pf    = models.FloatField(null=True, blank=True, default=None) /n\n",
      "    avg_frequency   = models.FloatField(null=True, blank=True, default=None) /n\n",
      "    neutral_current = models.FloatField(null=True, blank=True, default=None) /n\n",
      "    volt_thd_l1_l12 = models.FloatField(null=True, blank=True, default=None) /n\n",
      "    volt_thd_l2_l23 = models.FloatField(null=True, blank=True, default=None) /n\n",
      "    volt_thd_l3_l31 = models.FloatField(null=True, blank=True, default=None) /n\n",
      "    current_thd_l1  = models.FloatField(null=True, blank=True, default=None) /n\n",
      "    current_thd_l2  = models.FloatField(null=True, blank=True, default=None) /n\n",
      "    current_thd_l3  = models.FloatField(null=True, blank=True, default=None) /n\n",
      "    current_tdd_l1  = models.FloatField(null=True, blank=True, default=None) /n\n",
      "    current_tdd_l2  = models.FloatField(null=True, blank=True, default=None) /n\n",
      "    current_tdd_l3  = models.FloatField(null=True, blank=True, default=None) /n\n",
      "    kwh_import      = models.FloatField(null=True, blank=True, default=None) /n\n",
      "    kwh_export      = models.FloatField(null=True, blank=True, default=None) /n\n",
      "    kvarh_import    = models.FloatField(null=True, blank=True, default=None) /n\n",
      "    kvah_total      = models.FloatField(null=True, blank=True, default=None) /n\n",
      "    max_amp._demand_l1 = models.FloatField(null=True, blank=True, default=None) /n\n",
      "    max_amp._demand_l2 = models.FloatField(null=True, blank=True, default=None) /n\n",
      "    max_amp._demand_l3 = models.FloatField(null=True, blank=True, default=None) /n\n",
      "    max._sliding_window_kw_demand   = models.FloatField(null=True, blank=True, default=None) /n\n",
      "    accum._kw_demand    = models.FloatField(null=True, blank=True, default=None) /n\n",
      "    max._sliding_window_kva_demand      = models.FloatField(null=True, blank=True, default=None) /n\n",
      "    present_sliding_window_kw_demand    = models.FloatField(null=True, blank=True, default=None) /n\n",
      "    present_sliding_window_kva_demand   = models.FloatField(null=True, blank=True, default=None) /n\n",
      "    accum_kva_demand   = models.FloatField(null=True, blank=True, default=None) /n\n",
      "    pf_import_at_maximum_kva_sliding_window_demand = models.FloatField(null=True, blank=True, default=None) /n\n"
     ]
    }
   ],
   "source": [
    "for attribute in well_formatted_models.split(\"\\n\"):\n",
    "    splitted_attribute = attribute.split(\"= \") \n",
    "    lowered_attribute_name = splitted_attribute[0].lower()\n",
    "    # print(lowered_attribute_name + \"= \" + splitted_attribute[1], \"/n\")"
   ]
  }
 ],
 "metadata": {
  "kernelspec": {
   "display_name": "Python 3",
   "language": "python",
   "name": "python3"
  },
  "language_info": {
   "codemirror_mode": {
    "name": "ipython",
    "version": 3
   },
   "file_extension": ".py",
   "mimetype": "text/x-python",
   "name": "python",
   "nbconvert_exporter": "python",
   "pygments_lexer": "ipython3",
   "version": "3.7.0"
  }
 },
 "nbformat": 4,
 "nbformat_minor": 2
}
