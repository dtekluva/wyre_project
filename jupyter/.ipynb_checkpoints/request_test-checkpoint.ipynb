{
 "cells": [
  {
   "cell_type": "code",
   "execution_count": 1,
   "metadata": {},
   "outputs": [],
   "source": [
    "# import sys\n",
    "# !{sys.executable} -m pip install robobrowser\n",
    "import requests\n",
    "from requests.auth import HTTPBasicAuth\n",
    "import json"
   ]
  },
  {
   "cell_type": "code",
   "execution_count": 2,
   "metadata": {},
   "outputs": [],
   "source": [
    "req = requests.get('http://expertpowerplus.com/API/api/Login?userName=ppl&pass=Wyre1234')"
   ]
  },
  {
   "cell_type": "code",
   "execution_count": 3,
   "metadata": {},
   "outputs": [],
   "source": [
    "auth_key_name = (list(req.cookies)[0]).name #get name of cookie unit used to be (.ASPXAUTH) chnaged to (form_p)\n",
    "auth_key_value = dict(req.cookies).get(auth_key_name) #get actual cookie unit"
   ]
  },
  {
   "cell_type": "code",
   "execution_count": 10,
   "metadata": {},
   "outputs": [],
   "source": [
    "cookie = {auth_key_name: auth_key_value}\n",
    "url_lastreading = 'http://expertpowerplus.com/API/api/basic/128166/LastReading'\n",
    "url_period_reading = 'http://expertpowerplus.com/API/api/Basic?startDate=2019-06-29&endDate=c&deviceId=133813'\n",
    "\n",
    "r = requests.get(url_lastreading, cookies=cookie)\n",
    "\n",
    "# # print(r.content)"
   ]
  },
  {
   "cell_type": "code",
   "execution_count": 11,
   "metadata": {},
   "outputs": [],
   "source": [
    "x = (r.content)"
   ]
  },
  {
   "cell_type": "code",
   "execution_count": 12,
   "metadata": {},
   "outputs": [
    {
     "name": "stdout",
     "output_type": "stream",
     "text": [
      "Voltage L1/L12*Voltage L2/L23*Voltage L3/L31*Current L1*Current L2*Current L3*kW L1*kW L2*kW L3*kvar L1*kvar L2*kvar L3*kVA L1*kVA L2*kVA L3*Power factor L1*Power factor L2*Power factor L3*Total kW*Total kvar*Total kVA*Total PF*Avg Frequency*Neutral current*Volt THD L1/L12*Volt THD L2/L23*Volt THD L3/L31*Current THD L1*Current THD L2*Current THD L3*Current TDD L1*Current TDD L2*Current TDD L3*kWh import*kWh export*kvarh import*kVAh total*Max Amp. Demand L1*Max Amp. Demand L2*Max Amp. Demand L3*Max. sliding window kW Demand*Accum. kW Demand*Max. sliding window kVA Demand*Present sliding window kW Demand*Present sliding window kVA Demand*Accum. kVA Demand*PF (import) at maximum kVA sliding window Demand*"
     ]
    }
   ],
   "source": [
    "data = json.loads(x)\n",
    "readings = (data['data'][0]['data'])\n",
    "# # print(data['data'][0][\"recordTime\"])\n",
    "for value in readings:\n",
    "    # print(value[\"description\"], end= '*')"
   ]
  },
  {
   "cell_type": "code",
   "execution_count": 13,
   "metadata": {},
   "outputs": [
    {
     "name": "stdout",
     "output_type": "stream",
     "text": [
      "0             Voltage L1/L12              229.7           V      \n",
      "1             Voltage L2/L23              229.0           V      \n",
      "2             Voltage L3/L31              230.0           V      \n",
      "3               Current L1                183.86          A      \n",
      "4               Current L2                193.46          A      \n",
      "5               Current L3                193.54          A      \n",
      "6                 kW L1                   31.501          kW     \n",
      "7                 kW L2                   33.778          kW     \n",
      "8                 kW L3                   33.64           kW     \n",
      "9                kvar L1                  27.913         kvar    \n",
      "10               kvar L2                  28.465         kvar    \n",
      "11               kvar L3                  28.948         kvar    \n",
      "12                kVA L1                  42.06          kVA     \n",
      "13                kVA L2                  44.13          kVA     \n",
      "14                kVA L3                  44.337         kVA     \n",
      "15           Power factor L1              0.748           PF     \n",
      "16           Power factor L2              0.765           PF     \n",
      "17           Power factor L3              0.758           PF     \n",
      "18               Total kW                 98.852          kW     \n",
      "19              Total kvar                85.258         kvar    \n",
      "20              Total kVA                130.595         kVA     \n",
      "21               Total PF                 0.757           PF     \n",
      "22            Avg Frequency               49.99           Hz     \n",
      "23           Neutral current              23.36           A      \n",
      "24           Volt THD L1/L12               1.0            %      \n",
      "25           Volt THD L2/L23               1.1            %      \n",
      "26           Volt THD L3/L31               1.1            %      \n",
      "27            Current THD L1               3.5            %      \n",
      "28            Current THD L2               3.8            %      \n",
      "29            Current THD L3               3.7            %      \n",
      "30            Current TDD L1               1.6            %      \n",
      "31            Current TDD L2               1.8            %      \n",
      "32            Current TDD L3               1.7            %      \n",
      "33              kWh import               1071024         kWh     \n",
      "34              kWh export                  0            kWh     \n",
      "35             kvarh import               820876        kvarh    \n",
      "36              kVAh total               1353402         kVAh    \n",
      "37          Max Amp. Demand L1            285.63          A      \n",
      "38          Max Amp. Demand L2            302.91          A      \n",
      "39          Max Amp. Demand L3            282.51          A      \n",
      "40    Max. sliding window kW Demand      154.679          kW     \n",
      "41           Accum. kW Demand             65.108          kW     \n",
      "42    Max. sliding window kVA Demand     154.679         kVA     \n",
      "43   Present sliding window kW Demand     93.124          kW     \n",
      "44  Present sliding window kVA Demand    125.006         kVA     \n",
      "45          Accum. kVA Demand             86.845         kVA     \n",
      "46 PF (import) at maximum kVA sliding window Demand     0.79           PF     \n"
     ]
    }
   ],
   "source": [
    "readings = (data['data'][0]['data'])\n",
    "# # print(data['data'][0][\"recordTime\"])\n",
    "i = 0\n",
    "for value in readings:\n",
    "    # print(str(i).center(2), (value[\"description\"]).center(35), str(value[\"value\"]).center(12), str(value[\"units\"]).center(13))\n",
    "    i += 1"
   ]
  },
  {
   "cell_type": "code",
   "execution_count": null,
   "metadata": {},
   "outputs": [],
   "source": [
    "# # print(data.get(\"data\"))"
   ]
  },
  {
   "cell_type": "code",
   "execution_count": 33,
   "metadata": {},
   "outputs": [
    {
     "name": "stdout",
     "output_type": "stream",
     "text": [
      "Voltage_L1_L12 = models.FloatField(null=True, blank=True, default=None)\n",
      "Voltage_L2_L23 = models.FloatField(null=True, blank=True, default=None)\n",
      "Voltage_L3_L31 = models.FloatField(null=True, blank=True, default=None)\n",
      "Current_L1 = models.FloatField(null=True, blank=True, default=None)\n",
      "Current_L2 = models.FloatField(null=True, blank=True, default=None)\n",
      "Current_L3 = models.FloatField(null=True, blank=True, default=None)\n",
      "kW_L1 = models.FloatField(null=True, blank=True, default=None)\n",
      "kW_L2 = models.FloatField(null=True, blank=True, default=None)\n",
      "kW_L3 = models.FloatField(null=True, blank=True, default=None)\n",
      "kvar_L1 = models.FloatField(null=True, blank=True, default=None)\n",
      "kvar_L2 = models.FloatField(null=True, blank=True, default=None)\n",
      "kvar_L3 = models.FloatField(null=True, blank=True, default=None)\n",
      "kVA_L1 = models.FloatField(null=True, blank=True, default=None)\n",
      "kVA_L2 = models.FloatField(null=True, blank=True, default=None)\n",
      "kVA_L3 = models.FloatField(null=True, blank=True, default=None)\n",
      "Power_factor_L1 = models.FloatField(null=True, blank=True, default=None)\n",
      "Power_factor_L2 = models.FloatField(null=True, blank=True, default=None)\n",
      "Power_factor_L3 = models.FloatField(null=True, blank=True, default=None)\n",
      "Total_kW = models.FloatField(null=True, blank=True, default=None)\n",
      "Total_kvar = models.FloatField(null=True, blank=True, default=None)\n",
      "Total_kVA = models.FloatField(null=True, blank=True, default=None)\n",
      "Total_PF = models.FloatField(null=True, blank=True, default=None)\n",
      "Avg_Frequency = models.FloatField(null=True, blank=True, default=None)\n",
      "Neutral_current = models.FloatField(null=True, blank=True, default=None)\n",
      "Volt_THD_L1_L12 = models.FloatField(null=True, blank=True, default=None)\n",
      "Volt_THD_L2_L23 = models.FloatField(null=True, blank=True, default=None)\n",
      "Volt_THD_L3_L31 = models.FloatField(null=True, blank=True, default=None)\n",
      "Current_THD_L1 = models.FloatField(null=True, blank=True, default=None)\n",
      "Current_THD_L2 = models.FloatField(null=True, blank=True, default=None)\n",
      "Current_THD_L3 = models.FloatField(null=True, blank=True, default=None)\n",
      "Current_TDD_L1 = models.FloatField(null=True, blank=True, default=None)\n",
      "Current_TDD_L2 = models.FloatField(null=True, blank=True, default=None)\n",
      "Current_TDD_L3 = models.FloatField(null=True, blank=True, default=None)\n",
      "kWh_import = models.FloatField(null=True, blank=True, default=None)\n",
      "kWh_export = models.FloatField(null=True, blank=True, default=None)\n",
      "kvarh_import = models.FloatField(null=True, blank=True, default=None)\n",
      "kVAh_total = models.FloatField(null=True, blank=True, default=None)\n",
      "Max_Amp._Demand_L1 = models.FloatField(null=True, blank=True, default=None)\n",
      "Max_Amp._Demand_L2 = models.FloatField(null=True, blank=True, default=None)\n",
      "Max_Amp._Demand_L3 = models.FloatField(null=True, blank=True, default=None)\n",
      "Max._sliding_window_kW_Demand = models.FloatField(null=True, blank=True, default=None)\n",
      "Accum._kW_Demand = models.FloatField(null=True, blank=True, default=None)\n",
      "Max._sliding_window_kVA_Demand = models.FloatField(null=True, blank=True, default=None)\n",
      "Present_sliding_window_kW_Demand = models.FloatField(null=True, blank=True, default=None)\n",
      "Present_sliding_window_kVA_Demand = models.FloatField(null=True, blank=True, default=None)\n",
      "Accum._kVA_Demand = models.FloatField(null=True, blank=True, default=None)\n",
      "PF_(import)_at_maximum_kVA_sliding_window_Demand = models.FloatField(null=True, blank=True, default=None)\n"
     ]
    }
   ],
   "source": [
    "text = 'Voltage L1/L12*Voltage L2/L23*Voltage L3/L31*Current L1*Current L2*Current L3*kW L1*kW L2*kW L3*kvar L1*kvar L2*kvar L3*kVA L1*kVA L2*kVA L3*Power factor L1*Power factor L2*Power factor L3*Total kW*Total kvar*Total kVA*Total PF*Avg Frequency*Neutral current*Volt THD L1/L12*Volt THD L2/L23*Volt THD L3/L31*Current THD L1*Current THD L2*Current THD L3*Current TDD L1*Current TDD L2*Current TDD L3*kWh import*kWh export*kvarh import*kVAh total*Max Amp. Demand L1*Max Amp. Demand L2*Max Amp. Demand L3*Max. sliding window kW Demand*Accum. kW Demand*Max. sliding window kVA Demand*Present sliding window kW Demand*Present sliding window kVA Demand*Accum. kVA Demand*PF (import) at maximum kVA sliding window Demand'.replace(' ','_').replace('/','_')\n",
    "parameters = text.split('*')\n",
    "model = ' = models.FloatField(null=True, blank=True, default=None)'\n",
    "\n",
    "for value in parameters:\n",
    "    # # print(value + model)"
   ]
  },
  {
   "cell_type": "code",
   "execution_count": 34,
   "metadata": {},
   "outputs": [],
   "source": [
    "well_formatted_models = \"\"\"    Voltage_L1_L12  = models.FloatField(null=True, blank=True, default=None)\n",
    "    Voltage_L2_L23  = models.FloatField(null=True, blank=True, default=None)\n",
    "    Voltage_L3_L31  = models.FloatField(null=True, blank=True, default=None)\n",
    "    Current_L1      = models.FloatField(null=True, blank=True, default=None)\n",
    "    Current_L2      = models.FloatField(null=True, blank=True, default=None)\n",
    "    Current_L3      = models.FloatField(null=True, blank=True, default=None)\n",
    "    kW_L1   = models.FloatField(null=True, blank=True, default=None)\n",
    "    kW_L2   = models.FloatField(null=True, blank=True, default=None)\n",
    "    kW_L3   = models.FloatField(null=True, blank=True, default=None)\n",
    "    kvar_L1 = models.FloatField(null=True, blank=True, default=None)\n",
    "    kvar_L2 = models.FloatField(null=True, blank=True, default=None)\n",
    "    kvar_L3 = models.FloatField(null=True, blank=True, default=None)\n",
    "    kVA_L1  = models.FloatField(null=True, blank=True, default=None)\n",
    "    kVA_L2  = models.FloatField(null=True, blank=True, default=None)\n",
    "    kVA_L3  = models.FloatField(null=True, blank=True, default=None)\n",
    "    Power_factor_L1  = models.FloatField(null=True, blank=True, default=None)\n",
    "    Power_factor_L2  = models.FloatField(null=True, blank=True, default=None)\n",
    "    Power_factor_L3  = models.FloatField(null=True, blank=True, default=None)\n",
    "    Total_kW    = models.FloatField(null=True, blank=True, default=None)\n",
    "    Total_kvar  = models.FloatField(null=True, blank=True, default=None)\n",
    "    Total_kVA   = models.FloatField(null=True, blank=True, default=None)\n",
    "    Total_PF    = models.FloatField(null=True, blank=True, default=None)\n",
    "    Avg_Frequency   = models.FloatField(null=True, blank=True, default=None)\n",
    "    Neutral_current = models.FloatField(null=True, blank=True, default=None)\n",
    "    Volt_THD_L1_L12 = models.FloatField(null=True, blank=True, default=None)\n",
    "    Volt_THD_L2_L23 = models.FloatField(null=True, blank=True, default=None)\n",
    "    Volt_THD_L3_L31 = models.FloatField(null=True, blank=True, default=None)\n",
    "    Current_THD_L1  = models.FloatField(null=True, blank=True, default=None)\n",
    "    Current_THD_L2  = models.FloatField(null=True, blank=True, default=None)\n",
    "    Current_THD_L3  = models.FloatField(null=True, blank=True, default=None)\n",
    "    Current_TDD_L1  = models.FloatField(null=True, blank=True, default=None)\n",
    "    Current_TDD_L2  = models.FloatField(null=True, blank=True, default=None)\n",
    "    Current_TDD_L3  = models.FloatField(null=True, blank=True, default=None)\n",
    "    kWh_import      = models.FloatField(null=True, blank=True, default=None)\n",
    "    kWh_export      = models.FloatField(null=True, blank=True, default=None)\n",
    "    kvarh_import    = models.FloatField(null=True, blank=True, default=None)\n",
    "    kVAh_total      = models.FloatField(null=True, blank=True, default=None)\n",
    "    Max_Amp._Demand_L1 = models.FloatField(null=True, blank=True, default=None)\n",
    "    Max_Amp._Demand_L2 = models.FloatField(null=True, blank=True, default=None)\n",
    "    Max_Amp._Demand_L3 = models.FloatField(null=True, blank=True, default=None)\n",
    "    Max._sliding_window_kW_Demand   = models.FloatField(null=True, blank=True, default=None)\n",
    "    Accum._kW_Demand    = models.FloatField(null=True, blank=True, default=None)\n",
    "    Max._sliding_window_kVA_Demand      = models.FloatField(null=True, blank=True, default=None)\n",
    "    Present_sliding_window_kW_Demand    = models.FloatField(null=True, blank=True, default=None)\n",
    "    Present_sliding_window_kVA_Demand   = models.FloatField(null=True, blank=True, default=None)\n",
    "    Accum_kVA_Demand   = models.FloatField(null=True, blank=True, default=None)\n",
    "    PF_import_at_maximum_kVA_sliding_window_Demand = models.FloatField(null=True, blank=True, default=None)\"\"\"    "
   ]
  },
  {
   "cell_type": "code",
   "execution_count": 35,
   "metadata": {},
   "outputs": [
    {
     "name": "stdout",
     "output_type": "stream",
     "text": [
      "    voltage_l1_l12  = models.FloatField(null=True, blank=True, default=None) /n\n",
      "    voltage_l2_l23  = models.FloatField(null=True, blank=True, default=None) /n\n",
      "    voltage_l3_l31  = models.FloatField(null=True, blank=True, default=None) /n\n",
      "    current_l1      = models.FloatField(null=True, blank=True, default=None) /n\n",
      "    current_l2      = models.FloatField(null=True, blank=True, default=None) /n\n",
      "    current_l3      = models.FloatField(null=True, blank=True, default=None) /n\n",
      "    kw_l1   = models.FloatField(null=True, blank=True, default=None) /n\n",
      "    kw_l2   = models.FloatField(null=True, blank=True, default=None) /n\n",
      "    kw_l3   = models.FloatField(null=True, blank=True, default=None) /n\n",
      "    kvar_l1 = models.FloatField(null=True, blank=True, default=None) /n\n",
      "    kvar_l2 = models.FloatField(null=True, blank=True, default=None) /n\n",
      "    kvar_l3 = models.FloatField(null=True, blank=True, default=None) /n\n",
      "    kva_l1  = models.FloatField(null=True, blank=True, default=None) /n\n",
      "    kva_l2  = models.FloatField(null=True, blank=True, default=None) /n\n",
      "    kva_l3  = models.FloatField(null=True, blank=True, default=None) /n\n",
      "    power_factor_l1  = models.FloatField(null=True, blank=True, default=None) /n\n",
      "    power_factor_l2  = models.FloatField(null=True, blank=True, default=None) /n\n",
      "    power_factor_l3  = models.FloatField(null=True, blank=True, default=None) /n\n",
      "    total_kw    = models.FloatField(null=True, blank=True, default=None) /n\n",
      "    total_kvar  = models.FloatField(null=True, blank=True, default=None) /n\n",
      "    total_kva   = models.FloatField(null=True, blank=True, default=None) /n\n",
      "    total_pf    = models.FloatField(null=True, blank=True, default=None) /n\n",
      "    avg_frequency   = models.FloatField(null=True, blank=True, default=None) /n\n",
      "    neutral_current = models.FloatField(null=True, blank=True, default=None) /n\n",
      "    volt_thd_l1_l12 = models.FloatField(null=True, blank=True, default=None) /n\n",
      "    volt_thd_l2_l23 = models.FloatField(null=True, blank=True, default=None) /n\n",
      "    volt_thd_l3_l31 = models.FloatField(null=True, blank=True, default=None) /n\n",
      "    current_thd_l1  = models.FloatField(null=True, blank=True, default=None) /n\n",
      "    current_thd_l2  = models.FloatField(null=True, blank=True, default=None) /n\n",
      "    current_thd_l3  = models.FloatField(null=True, blank=True, default=None) /n\n",
      "    current_tdd_l1  = models.FloatField(null=True, blank=True, default=None) /n\n",
      "    current_tdd_l2  = models.FloatField(null=True, blank=True, default=None) /n\n",
      "    current_tdd_l3  = models.FloatField(null=True, blank=True, default=None) /n\n",
      "    kwh_import      = models.FloatField(null=True, blank=True, default=None) /n\n",
      "    kwh_export      = models.FloatField(null=True, blank=True, default=None) /n\n",
      "    kvarh_import    = models.FloatField(null=True, blank=True, default=None) /n\n",
      "    kvah_total      = models.FloatField(null=True, blank=True, default=None) /n\n",
      "    max_amp._demand_l1 = models.FloatField(null=True, blank=True, default=None) /n\n",
      "    max_amp._demand_l2 = models.FloatField(null=True, blank=True, default=None) /n\n",
      "    max_amp._demand_l3 = models.FloatField(null=True, blank=True, default=None) /n\n",
      "    max._sliding_window_kw_demand   = models.FloatField(null=True, blank=True, default=None) /n\n",
      "    accum._kw_demand    = models.FloatField(null=True, blank=True, default=None) /n\n",
      "    max._sliding_window_kva_demand      = models.FloatField(null=True, blank=True, default=None) /n\n",
      "    present_sliding_window_kw_demand    = models.FloatField(null=True, blank=True, default=None) /n\n",
      "    present_sliding_window_kva_demand   = models.FloatField(null=True, blank=True, default=None) /n\n",
      "    accum_kva_demand   = models.FloatField(null=True, blank=True, default=None) /n\n",
      "    pf_import_at_maximum_kva_sliding_window_demand = models.FloatField(null=True, blank=True, default=None) /n\n"
     ]
    }
   ],
   "source": [
    "for attribute in well_formatted_models.split(\"\\n\"):\n",
    "    splitted_attribute = attribute.split(\"= \") \n",
    "    lowered_attribute_name = splitted_attribute[0].lower()\n",
    "    # # print(lowered_attribute_name + \"= \" + splitted_attribute[1], \"/n\")"
   ]
  }
 ],
 "metadata": {
  "kernelspec": {
   "display_name": "Python 3",
   "language": "python",
   "name": "python3"
  },
  "language_info": {
   "codemirror_mode": {
    "name": "ipython",
    "version": 3
   },
   "file_extension": ".py",
   "mimetype": "text/x-python",
   "name": "python",
   "nbconvert_exporter": "python",
   "pygments_lexer": "ipython3",
   "version": "3.7.0"
  }
 },
 "nbformat": 4,
 "nbformat_minor": 2
}
