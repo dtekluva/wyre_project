{
 "cells": [
  {
   "cell_type": "code",
   "execution_count": 3,
   "metadata": {},
   "outputs": [],
   "source": [
    "# import sys\n",
    "# !{sys.executable} -m pip install robobrowser\n",
    "import requests\n",
    "from requests.auth import HTTPBasicAuth\n",
    "import json"
   ]
  },
  {
   "cell_type": "code",
   "execution_count": 4,
   "metadata": {},
   "outputs": [],
   "source": [
    "req = requests.get('http://expertpowerplus.com:8080/api/Login?userName=ppl&pass=Wyre1234')"
   ]
  },
  {
   "cell_type": "code",
   "execution_count": 5,
   "metadata": {},
   "outputs": [],
   "source": [
    "auth_key_name = (list(req.cookies)[0]).name #get name of cookie unit used to be (.ASPXAUTH) chnaged to (form_p)\n",
    "auth_key_value = dict(req.cookies).get(auth_key_name) #get actual cookie unit"
   ]
  },
  {
   "cell_type": "code",
   "execution_count": 6,
   "metadata": {},
   "outputs": [],
   "source": [
    "cookie = {auth_key_name: auth_key_value}\n",
    "url_lastreading = 'http://expertpowerplus.com:8080/api/basic/128166/LastReading'\n",
    "url_period_reading = 'http://expertpowerplus.com:8080/api/Basic?startDate=2019-06-29&endDate=c&deviceId=133813'\n",
    "\n",
    "r = requests.get(url_lastreading, cookies=cookie)\n",
    "\n",
    "# # print(r.content)"
   ]
  },
  {
   "cell_type": "code",
   "execution_count": 7,
   "metadata": {},
   "outputs": [],
   "source": [
    "x = (r.content)"
   ]
  },
  {
   "cell_type": "code",
   "execution_count": 16,
   "metadata": {},
   "outputs": [
    {
     "name": "stdout",
     "output_type": "stream",
     "text": [
      "47\n",
      "{'voltage_l1_l12': {}, 'voltage_l2_l23': {}, 'voltage_l3_l31': {}, 'current_l1': {}, 'current_l2': {}, 'current_l3': {}, 'kw_l1': {}, 'kw_l2': {}, 'kw_l3': {}, 'kvar_l1': {}, 'kvar_l2': {}, 'kvar_l3': {}, 'kva_l1': {}, 'kva_l2': {}, 'kva_l3': {}, 'power_factor_l1': {}, 'power_factor_l2': {}, 'power_factor_l3': {}, 'total_kw': {}, 'total_kvar': {}, 'total_kva': {}, 'total_pf': {}, 'avg_frequency': {}, 'neutral_current': {}, 'volt_thd_l1_l12': {}, 'volt_thd_l2_l23': {}, 'volt_thd_l3_l31': {}, 'current_thd_l1': {}, 'current_thd_l2': {}, 'current_thd_l3': {}, 'current_tdd_l1': {}, 'current_tdd_l2': {}, 'current_tdd_l3': {}, 'kwh_import': {}, 'kwh_export': {}, 'kvarh_import': {}, 'kvah_total': {}, 'max_amp_demand_l1': {}, 'max_amp_demand_l2': {}, 'max_amp_demand_l3': {}, 'max_sliding_window_kw_demand': {}, 'accum_kw_demand': {}, 'max_sliding_window_kva_demand': {}, 'present_sliding_window_kw_demand': {}, 'present_sliding_window_kva_demand': {}, 'accum_kva_demand': {}, 'pf_import_at_maximum_kva_sliding_window_demand': {}}\n"
     ]
    }
   ],
   "source": [
    "data = json.loads(x)\n",
    "readings = (data['data'][0]['data'])\n",
    "# # print(data['data'][0][\"recordTime\"])\n",
    "# print(len(data['data'][0]['data']))\n",
    "template = {}\n",
    "for value in readings:\n",
    "#     # print(value[\"description\"], end= '*')\n",
    "    template[value[\"description\"].lower().replace('.','').replace(' ','_').replace('/','_').replace('(','').replace(')','')] = {}\n",
    "# print(template)"
   ]
  },
  {
   "cell_type": "code",
   "execution_count": 23,
   "metadata": {},
   "outputs": [
    {
     "name": "stdout",
     "output_type": "stream",
     "text": [
      "voltage_l1_l12\n",
      "voltage_l2_l23\n",
      "voltage_l3_l31\n",
      "current_l1\n",
      "current_l2\n",
      "current_l3\n",
      "kw_l1\n",
      "kw_l2\n",
      "kw_l3\n",
      "kvar_l1\n",
      "kvar_l2\n",
      "kvar_l3\n",
      "kva_l1\n",
      "kva_l2\n",
      "kva_l3\n",
      "power_factor_l1\n",
      "power_factor_l2\n",
      "power_factor_l3\n",
      "total_kw\n",
      "total_kvar\n",
      "total_kva\n",
      "total_pf\n",
      "avg_frequency\n",
      "neutral_current\n",
      "volt_thd_l1_l12\n",
      "volt_thd_l2_l23\n",
      "volt_thd_l3_l31\n",
      "current_thd_l1\n",
      "current_thd_l2\n",
      "current_thd_l3\n",
      "current_tdd_l1\n",
      "current_tdd_l2\n",
      "current_tdd_l3\n",
      "kwh_import\n",
      "kwh_export\n",
      "kvarh_import\n",
      "kvah_total\n",
      "max_amp_demand_l1\n",
      "max_amp_demand_l2\n",
      "max_amp_demand_l3\n",
      "max_sliding_window_kw_demand\n",
      "accum_kw_demand\n",
      "max_sliding_window_kva_demand\n",
      "present_sliding_window_kw_demand\n",
      "present_sliding_window_kva_demand\n",
      "accum_kva_demand\n",
      "pf_import_at_maximum_kva_sliding_window_demand\n",
      "{'Voltage_L1_L12': 229.7, 'Voltage_L2_L23': 229.0, 'Voltage_L3_L31': 230.0, 'Current_L1': 183.86, 'Current_L2': 193.46, 'Current_L3': 193.54, 'kW_L1': 31.501, 'kW_L2': 33.778, 'kW_L3': 33.64, 'kvar_L1': 27.913, 'kvar_L2': 28.465, 'kvar_L3': 28.948, 'kVA_L1': 42.06, 'kVA_L2': 44.13, 'kVA_L3': 44.337, 'Power_factor_L1': 0.748, 'Power_factor_L2': 0.765, 'Power_factor_L3': 0.758, 'Total_kW': 98.852, 'Total_kvar': 85.258, 'Total_kVA': 130.595, 'Total_PF': 0.757, 'Avg_Frequency': 49.99, 'Neutral_current': 23.36, 'Volt_THD_L1_L12': 1.0, 'Volt_THD_L2_L23': 1.1, 'Volt_THD_L3_L31': 1.1, 'Current_THD_L1': 3.5, 'Current_THD_L2': 3.8, 'Current_THD_L3': 3.7, 'Current_TDD_L1': 1.6, 'Current_TDD_L2': 1.8, 'Current_TDD_L3': 1.7, 'kWh_import': 1071024, 'kWh_export': 0, 'kvarh_import': 820876, 'kVAh_total': 1353402, 'Max_Amp_Demand_L1': 285.63, 'Max_Amp_Demand_L2': 302.91, 'Max_Amp_Demand_L3': 282.51, 'Max_sliding_window_kW_Demand': 154.679, 'Accum_kW_Demand': 65.108, 'Max_sliding_window_kVA_Demand': 154.679, 'Present_sliding_window_kW_Demand': 93.124, 'Present_sliding_window_kVA_Demand': 125.006, 'Accum_kVA_Demand': 86.845, 'PF_import_at_maximum_kVA_sliding_window_Demand': 0.79}\n"
     ]
    }
   ],
   "source": [
    "readings = (data['data'][0]['data'])\n",
    "# # print(data['data'][0][\"recordTime\"])\n",
    "i = 0\n",
    "parameters = {}\n",
    "for value in readings:\n",
    "    description = (value[\"description\"]).replace('.','').replace(' ','_').replace('/','_').replace('(','').replace(')','')\n",
    "    # print(str(i).center(2), description.center(35), str(value[\"value\"]).center(12), str(value[\"units\"]).center(13))\n",
    "    parameters[description] = value[\"value\"]\n",
    "    i += 1\n",
    "# print(parameters)"
   ]
  },
  {
   "cell_type": "code",
   "execution_count": null,
   "metadata": {},
   "outputs": [],
   "source": [
    "# # print(data.get(\"data\"))"
   ]
  },
  {
   "cell_type": "code",
   "execution_count": 33,
   "metadata": {},
   "outputs": [
    {
     "name": "stdout",
     "output_type": "stream",
     "text": [
      "Voltage_L1_L12 = models.FloatField(null=True, blank=True, default=None)\n",
      "Voltage_L2_L23 = models.FloatField(null=True, blank=True, default=None)\n",
      "Voltage_L3_L31 = models.FloatField(null=True, blank=True, default=None)\n",
      "Current_L1 = models.FloatField(null=True, blank=True, default=None)\n",
      "Current_L2 = models.FloatField(null=True, blank=True, default=None)\n",
      "Current_L3 = models.FloatField(null=True, blank=True, default=None)\n",
      "kW_L1 = models.FloatField(null=True, blank=True, default=None)\n",
      "kW_L2 = models.FloatField(null=True, blank=True, default=None)\n",
      "kW_L3 = models.FloatField(null=True, blank=True, default=None)\n",
      "kvar_L1 = models.FloatField(null=True, blank=True, default=None)\n",
      "kvar_L2 = models.FloatField(null=True, blank=True, default=None)\n",
      "kvar_L3 = models.FloatField(null=True, blank=True, default=None)\n",
      "kVA_L1 = models.FloatField(null=True, blank=True, default=None)\n",
      "kVA_L2 = models.FloatField(null=True, blank=True, default=None)\n",
      "kVA_L3 = models.FloatField(null=True, blank=True, default=None)\n",
      "Power_factor_L1 = models.FloatField(null=True, blank=True, default=None)\n",
      "Power_factor_L2 = models.FloatField(null=True, blank=True, default=None)\n",
      "Power_factor_L3 = models.FloatField(null=True, blank=True, default=None)\n",
      "Total_kW = models.FloatField(null=True, blank=True, default=None)\n",
      "Total_kvar = models.FloatField(null=True, blank=True, default=None)\n",
      "Total_kVA = models.FloatField(null=True, blank=True, default=None)\n",
      "Total_PF = models.FloatField(null=True, blank=True, default=None)\n",
      "Avg_Frequency = models.FloatField(null=True, blank=True, default=None)\n",
      "Neutral_current = models.FloatField(null=True, blank=True, default=None)\n",
      "Volt_THD_L1_L12 = models.FloatField(null=True, blank=True, default=None)\n",
      "Volt_THD_L2_L23 = models.FloatField(null=True, blank=True, default=None)\n",
      "Volt_THD_L3_L31 = models.FloatField(null=True, blank=True, default=None)\n",
      "Current_THD_L1 = models.FloatField(null=True, blank=True, default=None)\n",
      "Current_THD_L2 = models.FloatField(null=True, blank=True, default=None)\n",
      "Current_THD_L3 = models.FloatField(null=True, blank=True, default=None)\n",
      "Current_TDD_L1 = models.FloatField(null=True, blank=True, default=None)\n",
      "Current_TDD_L2 = models.FloatField(null=True, blank=True, default=None)\n",
      "Current_TDD_L3 = models.FloatField(null=True, blank=True, default=None)\n",
      "kWh_import = models.FloatField(null=True, blank=True, default=None)\n",
      "kWh_export = models.FloatField(null=True, blank=True, default=None)\n",
      "kvarh_import = models.FloatField(null=True, blank=True, default=None)\n",
      "kVAh_total = models.FloatField(null=True, blank=True, default=None)\n",
      "Max_Amp._Demand_L1 = models.FloatField(null=True, blank=True, default=None)\n",
      "Max_Amp._Demand_L2 = models.FloatField(null=True, blank=True, default=None)\n",
      "Max_Amp._Demand_L3 = models.FloatField(null=True, blank=True, default=None)\n",
      "Max._sliding_window_kW_Demand = models.FloatField(null=True, blank=True, default=None)\n",
      "Accum._kW_Demand = models.FloatField(null=True, blank=True, default=None)\n",
      "Max._sliding_window_kVA_Demand = models.FloatField(null=True, blank=True, default=None)\n",
      "Present_sliding_window_kW_Demand = models.FloatField(null=True, blank=True, default=None)\n",
      "Present_sliding_window_kVA_Demand = models.FloatField(null=True, blank=True, default=None)\n",
      "Accum._kVA_Demand = models.FloatField(null=True, blank=True, default=None)\n",
      "PF_(import)_at_maximum_kVA_sliding_window_Demand = models.FloatField(null=True, blank=True, default=None)\n"
     ]
    }
   ],
   "source": [
    "text = 'Voltage L1/L12*Voltage L2/L23*Voltage L3/L31*Current L1*Current L2*Current L3*kW L1*kW L2*kW L3*kvar L1*kvar L2*kvar L3*kVA L1*kVA L2*kVA L3*Power factor L1*Power factor L2*Power factor L3*Total kW*Total kvar*Total kVA*Total PF*Avg Frequency*Neutral current*Volt THD L1/L12*Volt THD L2/L23*Volt THD L3/L31*Current THD L1*Current THD L2*Current THD L3*Current TDD L1*Current TDD L2*Current TDD L3*kWh import*kWh export*kvarh import*kVAh total*Max Amp. Demand L1*Max Amp. Demand L2*Max Amp. Demand L3*Max. sliding window kW Demand*Accum. kW Demand*Max. sliding window kVA Demand*Present sliding window kW Demand*Present sliding window kVA Demand*Accum. kVA Demand*PF (import) at maximum kVA sliding window Demand'.replace(' ','_').replace('/','_')\n",
    "parameters = text.split('*')\n",
    "model = ' = models.FloatField(null=True, blank=True, default=None)'\n",
    "\n",
    "for value in parameters:\n",
    "    # # print(value + model)"
   ]
  },
  {
   "cell_type": "code",
   "execution_count": 34,
   "metadata": {},
   "outputs": [],
   "source": [
    "well_formatted_models = \"\"\"    Voltage_L1_L12  = models.FloatField(null=True, blank=True, default=None)\n",
    "    Voltage_L2_L23  = models.FloatField(null=True, blank=True, default=None)\n",
    "    Voltage_L3_L31  = models.FloatField(null=True, blank=True, default=None)\n",
    "    Current_L1      = models.FloatField(null=True, blank=True, default=None)\n",
    "    Current_L2      = models.FloatField(null=True, blank=True, default=None)\n",
    "    Current_L3      = models.FloatField(null=True, blank=True, default=None)\n",
    "    kW_L1   = models.FloatField(null=True, blank=True, default=None)\n",
    "    kW_L2   = models.FloatField(null=True, blank=True, default=None)\n",
    "    kW_L3   = models.FloatField(null=True, blank=True, default=None)\n",
    "    kvar_L1 = models.FloatField(null=True, blank=True, default=None)\n",
    "    kvar_L2 = models.FloatField(null=True, blank=True, default=None)\n",
    "    kvar_L3 = models.FloatField(null=True, blank=True, default=None)\n",
    "    kVA_L1  = models.FloatField(null=True, blank=True, default=None)\n",
    "    kVA_L2  = models.FloatField(null=True, blank=True, default=None)\n",
    "    kVA_L3  = models.FloatField(null=True, blank=True, default=None)\n",
    "    Power_factor_L1  = models.FloatField(null=True, blank=True, default=None)\n",
    "    Power_factor_L2  = models.FloatField(null=True, blank=True, default=None)\n",
    "    Power_factor_L3  = models.FloatField(null=True, blank=True, default=None)\n",
    "    Total_kW    = models.FloatField(null=True, blank=True, default=None)\n",
    "    Total_kvar  = models.FloatField(null=True, blank=True, default=None)\n",
    "    Total_kVA   = models.FloatField(null=True, blank=True, default=None)\n",
    "    Total_PF    = models.FloatField(null=True, blank=True, default=None)\n",
    "    Avg_Frequency   = models.FloatField(null=True, blank=True, default=None)\n",
    "    Neutral_current = models.FloatField(null=True, blank=True, default=None)\n",
    "    Volt_THD_L1_L12 = models.FloatField(null=True, blank=True, default=None)\n",
    "    Volt_THD_L2_L23 = models.FloatField(null=True, blank=True, default=None)\n",
    "    Volt_THD_L3_L31 = models.FloatField(null=True, blank=True, default=None)\n",
    "    Current_THD_L1  = models.FloatField(null=True, blank=True, default=None)\n",
    "    Current_THD_L2  = models.FloatField(null=True, blank=True, default=None)\n",
    "    Current_THD_L3  = models.FloatField(null=True, blank=True, default=None)\n",
    "    Current_TDD_L1  = models.FloatField(null=True, blank=True, default=None)\n",
    "    Current_TDD_L2  = models.FloatField(null=True, blank=True, default=None)\n",
    "    Current_TDD_L3  = models.FloatField(null=True, blank=True, default=None)\n",
    "    kWh_import      = models.FloatField(null=True, blank=True, default=None)\n",
    "    kWh_export      = models.FloatField(null=True, blank=True, default=None)\n",
    "    kvarh_import    = models.FloatField(null=True, blank=True, default=None)\n",
    "    kVAh_total      = models.FloatField(null=True, blank=True, default=None)\n",
    "    Max_Amp._Demand_L1 = models.FloatField(null=True, blank=True, default=None)\n",
    "    Max_Amp._Demand_L2 = models.FloatField(null=True, blank=True, default=None)\n",
    "    Max_Amp._Demand_L3 = models.FloatField(null=True, blank=True, default=None)\n",
    "    Max._sliding_window_kW_Demand   = models.FloatField(null=True, blank=True, default=None)\n",
    "    Accum._kW_Demand    = models.FloatField(null=True, blank=True, default=None)\n",
    "    Max._sliding_window_kVA_Demand      = models.FloatField(null=True, blank=True, default=None)\n",
    "    Present_sliding_window_kW_Demand    = models.FloatField(null=True, blank=True, default=None)\n",
    "    Present_sliding_window_kVA_Demand   = models.FloatField(null=True, blank=True, default=None)\n",
    "    Accum_kVA_Demand   = models.FloatField(null=True, blank=True, default=None)\n",
    "    PF_import_at_maximum_kVA_sliding_window_Demand = models.FloatField(null=True, blank=True, default=None)\"\"\"    "
   ]
  },
  {
   "cell_type": "code",
   "execution_count": 35,
   "metadata": {},
   "outputs": [
    {
     "name": "stdout",
     "output_type": "stream",
     "text": [
      "    voltage_l1_l12  = models.FloatField(null=True, blank=True, default=None) /n\n",
      "    voltage_l2_l23  = models.FloatField(null=True, blank=True, default=None) /n\n",
      "    voltage_l3_l31  = models.FloatField(null=True, blank=True, default=None) /n\n",
      "    current_l1      = models.FloatField(null=True, blank=True, default=None) /n\n",
      "    current_l2      = models.FloatField(null=True, blank=True, default=None) /n\n",
      "    current_l3      = models.FloatField(null=True, blank=True, default=None) /n\n",
      "    kw_l1   = models.FloatField(null=True, blank=True, default=None) /n\n",
      "    kw_l2   = models.FloatField(null=True, blank=True, default=None) /n\n",
      "    kw_l3   = models.FloatField(null=True, blank=True, default=None) /n\n",
      "    kvar_l1 = models.FloatField(null=True, blank=True, default=None) /n\n",
      "    kvar_l2 = models.FloatField(null=True, blank=True, default=None) /n\n",
      "    kvar_l3 = models.FloatField(null=True, blank=True, default=None) /n\n",
      "    kva_l1  = models.FloatField(null=True, blank=True, default=None) /n\n",
      "    kva_l2  = models.FloatField(null=True, blank=True, default=None) /n\n",
      "    kva_l3  = models.FloatField(null=True, blank=True, default=None) /n\n",
      "    power_factor_l1  = models.FloatField(null=True, blank=True, default=None) /n\n",
      "    power_factor_l2  = models.FloatField(null=True, blank=True, default=None) /n\n",
      "    power_factor_l3  = models.FloatField(null=True, blank=True, default=None) /n\n",
      "    total_kw    = models.FloatField(null=True, blank=True, default=None) /n\n",
      "    total_kvar  = models.FloatField(null=True, blank=True, default=None) /n\n",
      "    total_kva   = models.FloatField(null=True, blank=True, default=None) /n\n",
      "    total_pf    = models.FloatField(null=True, blank=True, default=None) /n\n",
      "    avg_frequency   = models.FloatField(null=True, blank=True, default=None) /n\n",
      "    neutral_current = models.FloatField(null=True, blank=True, default=None) /n\n",
      "    volt_thd_l1_l12 = models.FloatField(null=True, blank=True, default=None) /n\n",
      "    volt_thd_l2_l23 = models.FloatField(null=True, blank=True, default=None) /n\n",
      "    volt_thd_l3_l31 = models.FloatField(null=True, blank=True, default=None) /n\n",
      "    current_thd_l1  = models.FloatField(null=True, blank=True, default=None) /n\n",
      "    current_thd_l2  = models.FloatField(null=True, blank=True, default=None) /n\n",
      "    current_thd_l3  = models.FloatField(null=True, blank=True, default=None) /n\n",
      "    current_tdd_l1  = models.FloatField(null=True, blank=True, default=None) /n\n",
      "    current_tdd_l2  = models.FloatField(null=True, blank=True, default=None) /n\n",
      "    current_tdd_l3  = models.FloatField(null=True, blank=True, default=None) /n\n",
      "    kwh_import      = models.FloatField(null=True, blank=True, default=None) /n\n",
      "    kwh_export      = models.FloatField(null=True, blank=True, default=None) /n\n",
      "    kvarh_import    = models.FloatField(null=True, blank=True, default=None) /n\n",
      "    kvah_total      = models.FloatField(null=True, blank=True, default=None) /n\n",
      "    max_amp._demand_l1 = models.FloatField(null=True, blank=True, default=None) /n\n",
      "    max_amp._demand_l2 = models.FloatField(null=True, blank=True, default=None) /n\n",
      "    max_amp._demand_l3 = models.FloatField(null=True, blank=True, default=None) /n\n",
      "    max._sliding_window_kw_demand   = models.FloatField(null=True, blank=True, default=None) /n\n",
      "    accum._kw_demand    = models.FloatField(null=True, blank=True, default=None) /n\n",
      "    max._sliding_window_kva_demand      = models.FloatField(null=True, blank=True, default=None) /n\n",
      "    present_sliding_window_kw_demand    = models.FloatField(null=True, blank=True, default=None) /n\n",
      "    present_sliding_window_kva_demand   = models.FloatField(null=True, blank=True, default=None) /n\n",
      "    accum_kva_demand   = models.FloatField(null=True, blank=True, default=None) /n\n",
      "    pf_import_at_maximum_kva_sliding_window_demand = models.FloatField(null=True, blank=True, default=None) /n\n"
     ]
    }
   ],
   "source": [
    "for attribute in well_formatted_models.split(\"\\n\"):\n",
    "    splitted_attribute = attribute.split(\"= \") \n",
    "    lowered_attribute_name = splitted_attribute[0].lower()\n",
    "    # # print(lowered_attribute_name + \"= \" + splitted_attribute[1], \"/n\")"
   ]
  }
 ],
 "metadata": {
  "kernelspec": {
   "display_name": "Python 3",
   "language": "python",
   "name": "python3"
  },
  "language_info": {
   "codemirror_mode": {
    "name": "ipython",
    "version": 3
   },
   "file_extension": ".py",
   "mimetype": "text/x-python",
   "name": "python",
   "nbconvert_exporter": "python",
   "pygments_lexer": "ipython3",
   "version": "3.7.0"
  }
 },
 "nbformat": 4,
 "nbformat_minor": 2
}